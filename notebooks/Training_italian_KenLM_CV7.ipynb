{
  "nbformat": 4,
  "nbformat_minor": 0,
  "metadata": {
    "colab": {
      "name": "Training italian KenLM.ipynb",
      "provenance": [],
      "collapsed_sections": []
    },
    "kernelspec": {
      "name": "python3",
      "display_name": "Python 3"
    },
    "language_info": {
      "name": "python"
    }
  },
  "cells": [
    {
      "cell_type": "markdown",
      "source": [
        "# Storing data in a BIG txt file\n",
        "\n",
        "Data sources:\n",
        "- Mozilla Common Voice"
      ],
      "metadata": {
        "id": "TdhisiV2tfcz"
      }
    },
    {
      "cell_type": "code",
      "source": [
        "%%capture\n",
        "! pip install datasets"
      ],
      "metadata": {
        "id": "q7m6ejw0xRFf"
      },
      "execution_count": null,
      "outputs": []
    },
    {
      "cell_type": "code",
      "source": [
        "! huggingface-cli login"
      ],
      "metadata": {
        "id": "34SnhdscyWEN"
      },
      "execution_count": null,
      "outputs": []
    },
    {
      "cell_type": "code",
      "execution_count": null,
      "metadata": {
        "id": "e7QphE1jtbe8"
      },
      "outputs": [],
      "source": [
        "from datasets import load_dataset\n",
        "\n",
        "dataset = load_dataset(\"mozilla-foundation/common_voice_7_0\", \"it\", use_auth_token=True, split=\"train\")\n",
        "\n",
        "with open(\"text.txt\", \"w\") as f:\n",
        "    f.write(\" \".join(dataset[\"sentence\"]))"
      ]
    },
    {
      "cell_type": "markdown",
      "source": [
        "# Training and storing KenLM-it-5"
      ],
      "metadata": {
        "id": "NlNFBtkywUp6"
      }
    },
    {
      "cell_type": "code",
      "source": [
        "! sudo apt install build-essential cmake libboost-system-dev libboost-thread-dev libboost-program-options-dev libboost-test-dev libeigen3-dev zlib1g-dev libbz2-dev liblzma-dev\n",
        "! wget -O - https://kheafield.com/code/kenlm.tar.gz | tar xz\n",
        "! mkdir kenlm/build && cd kenlm/build && cmake .. && make -j2\n",
        "! ls kenlm/build/bin"
      ],
      "metadata": {
        "id": "aXkuK-CdwZb8"
      },
      "execution_count": null,
      "outputs": []
    },
    {
      "cell_type": "code",
      "source": [
        "! kenlm/build/bin/lmplz -o 5 < \"text.txt\" > \"5gram-it-cv.arpa\""
      ],
      "metadata": {
        "id": "FP-I2Rbuwdp8"
      },
      "execution_count": null,
      "outputs": []
    },
    {
      "cell_type": "code",
      "source": [
        "with open(\"5gram-it-cv.arpa\", \"r\") as read_file, open(\"5gram-it-cv-eos.arpa\", \"w\") as write_file:\n",
        "    has_added_eos = False\n",
        "    for line in read_file:\n",
        "        if not has_added_eos and \"ngram 1=\" in line:\n",
        "            count=line.strip().split(\"=\")[-1]\n",
        "            write_file.write(line.replace(f\"{count}\", f\"{int(count)+1}\"))\n",
        "        elif not has_added_eos and \"<s>\" in line:\n",
        "            write_file.write(line)\n",
        "            write_file.write(line.replace(\"<s>\", \"</s>\"))\n",
        "            has_added_eos = True\n",
        "        else:\n",
        "            write_file.write(line)"
      ],
      "metadata": {
        "id": "RHEd14HS73Fw"
      },
      "execution_count": null,
      "outputs": []
    }
  ]
}